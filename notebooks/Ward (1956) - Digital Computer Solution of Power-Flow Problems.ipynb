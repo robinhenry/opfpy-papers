{
 "cells": [
  {
   "cell_type": "markdown",
   "metadata": {},
   "source": [
    "Table of Content\n",
    "============="
   ]
  },
  {
   "cell_type": "markdown",
   "metadata": {},
   "source": [
    "* [1. Introduction](#section1)\n",
    "* [2. Import statements](#section2)\n",
    "* [3. Core functions](#section3)\n",
    "* [4. Network example](#section4)\n",
    "* [5. Iterative algorithm](#section5)\n",
    "* [6. Final solution](#section6)"
   ]
  },
  {
   "cell_type": "markdown",
   "metadata": {},
   "source": [
    "## 1. Introduction <a class='anchor' id='section1'></a>\n",
    "\n",
    "This Notebook provides an implementation of the work of J.B. Ward and H.W. Wale, titled *Digital Computer Solution of Power-Flow Problems*, from June 1956. \n",
    "\n",
    "The full original paper can be found [here](http://helios.acomp.usf.edu/~fehr/wardhale.pdf)."
   ]
  },
  {
   "cell_type": "markdown",
   "metadata": {},
   "source": [
    "## 2. Import Statements <a class='anchor' id='section2'></a>"
   ]
  },
  {
   "cell_type": "code",
   "execution_count": 29,
   "metadata": {},
   "outputs": [],
   "source": [
    "import numpy as np"
   ]
  },
  {
   "cell_type": "markdown",
   "metadata": {},
   "source": [
    "## 3. Core Functions <a class='anchor' id='section3'></a>"
   ]
  },
  {
   "cell_type": "code",
   "execution_count": 30,
   "metadata": {},
   "outputs": [],
   "source": [
    "def compute_I(G, B, E_real, E_imag, k):\n",
    "    \"\"\" \n",
    "    Compute the nodal I injection at bus k (eqns. 4-6). \n",
    "    \n",
    "    Parameters\n",
    "    ----------\n",
    "    G : np.ndarray\n",
    "        The (N, N) nodal conductance matrix, such that G = Re(Y).\n",
    "    B : np.ndarray\n",
    "        The (N, N) nodal susceptance matrix, such that B = Im(Y).\n",
    "    E_real : np.ndarray\n",
    "        The (N,) vector of the real component of the nodal voltages.\n",
    "    E_imag : np.ndarray\n",
    "        The (N,) vector of the imaginary component of the nodal voltages.\n",
    "    k : int\n",
    "        The index of the node at which to compute the curent injection I_k\n",
    "        (0-indexed).\n",
    "        \n",
    "    Returns\n",
    "    -------\n",
    "    i_real : float\n",
    "        The real part of the nodal current injection at bus k, Re(I_k).\n",
    "    i_imag : float\n",
    "        The imaginary part of the nodal current injection at bus k, Im(I_k).\n",
    "    \"\"\"\n",
    "    \n",
    "    n = Y.shape[0]\n",
    "    i_real, i_imag = 0, 0\n",
    "    for m in range(Y.shape[0]):\n",
    "        i_real += G[k, m] * E_real[m] - B[k, m] * E_imag[m]\n",
    "        i_imag += G[k, m] * E_imag[m] + B[k, m] * E_real[m]\n",
    "        \n",
    "    return i_real, i_imag"
   ]
  },
  {
   "cell_type": "code",
   "execution_count": 31,
   "metadata": {},
   "outputs": [],
   "source": [
    "def compute_PQ(i_real, i_imag, e_real, e_imag):\n",
    "    \"\"\" \n",
    "    Compute the nodal power injection S = P + jQ at a bus k (eqns. 7-8).\n",
    "    \n",
    "    Parameters\n",
    "    ----------\n",
    "    i_real : float\n",
    "        The real part of the current injection at bus k, Re(I_k).\n",
    "    i_imag : float\n",
    "        The imaginary part of the current injection at bus k, Im(I_k).\n",
    "    e_real : float\n",
    "        The real part of the voltage at bus k, Re(E_k).\n",
    "    e_imag : float\n",
    "        The imaginary part of the voltage at bus k, Im(E_k).\n",
    "    \n",
    "    Returns\n",
    "    -------\n",
    "    p : float\n",
    "        The active power injection at bus k, P_k.\n",
    "    q : float\n",
    "        The reactive power injection at bus k, Q_k.\n",
    "    \"\"\"\n",
    "    \n",
    "    p = i_real * e_real + i_imag * e_imag\n",
    "    q = i_real * e_imag - i_imag * e_real\n",
    "\n",
    "    return p, q"
   ]
  },
  {
   "cell_type": "code",
   "execution_count": 32,
   "metadata": {},
   "outputs": [],
   "source": [
    "def compute_E_correction_load(p_specified, q_specified, i_real, i_imag,\n",
    "                              e_real, e_imag, B, G, k):\n",
    "    \"\"\" \n",
    "    Compute the corrective voltage at load terminals (eqns. 9-13).\n",
    "    \n",
    "    Parameters:\n",
    "    ----------\n",
    "    p_specified : float\n",
    "        The scheduled active power injection at bus k.\n",
    "    q_specified : float\n",
    "        The scheduled reactive power injection at bus k.\n",
    "    i_real : float\n",
    "        The real part of the current injection at bus k, Re(I_k).\n",
    "    i_imag : float\n",
    "        The imaginary part of the current injection at bus k, Im(I_k).\n",
    "    e_real : float\n",
    "        The real part of the voltage at bus k, Re(E_k).\n",
    "    e_imag : float\n",
    "        The imaginary part of the voltage at bus k, Im(E_k).\n",
    "    B : np.ndarray\n",
    "        The (N, N) nodal susceptance matrix, such that B = Im(Y).\n",
    "    G : np.ndarray\n",
    "        The (N, N) nodal conductance matrix, such that G = Re(Y).\n",
    "    k : int\n",
    "        The index of the node (0-indexed).\n",
    "        \n",
    "    Returns\n",
    "    -------\n",
    "    x0 : float\n",
    "        The real part of the corrective voltage at bus k.\n",
    "    x1 : float\n",
    "        The imaginary part of the corrective voltage at bus k.\n",
    "    \"\"\"\n",
    "\n",
    "    # Compute deviation of P, Q from specified values.\n",
    "    p, q = compute_PQ(i_real, i_imag, e_real, e_imag)\n",
    "    dp = p_specified - p\n",
    "    dq = q_specified - q\n",
    "    \n",
    "    # Solve the system of linear equations.\n",
    "    A_00 = e_real * G[k, k] + e_imag * B[k, k] + i_real\n",
    "    A_01 = - e_real * B[k, k] + e_imag * G[k, k] + i_imag\n",
    "    A_10 = - e_real * B[k, k] + e_imag * G[k, k] - i_imag\n",
    "    A_11 = - e_real * G[k, k] + e_imag * B[k, k] + i_real\n",
    "    A = np.array([[A_00, A_01], [A_10, A_11]])\n",
    "    b = np.array([[dp], [dq]])\n",
    "    \n",
    "    # Correction x is [e_real, e_imag].\n",
    "    x = np.dot(np.linalg.inv(A), b)\n",
    "    \n",
    "    return x[0], x[1]"
   ]
  },
  {
   "cell_type": "code",
   "execution_count": 33,
   "metadata": {},
   "outputs": [],
   "source": [
    "def compute_E_correction_generator(p_specified, e_magn_specified, i_real, i_imag,\n",
    "                                   e_real, e_imag, B, G, k):\n",
    "    \"\"\" \n",
    "    Compute the corrective voltage at generator terminals (eqns. 14-20).\n",
    "    \n",
    "    Parameters:\n",
    "    ----------\n",
    "    p_specified : float\n",
    "        The scheduled active power injection at bus k.\n",
    "    e_magn_specified : float\n",
    "        The specified voltage magnitude at bus k.\n",
    "    i_real : float\n",
    "        The real part of the current injection at bus k, Re(I_k).\n",
    "    i_imag : float\n",
    "        The imaginary part of the current injection at bus k, Im(I_k).\n",
    "    e_real : float\n",
    "        The real part of the voltage at bus k, Re(E_k).\n",
    "    e_imag : float\n",
    "        The imaginary part of the voltage at bus k, Im(E_k).\n",
    "    B : np.ndarray\n",
    "        The (N, N) nodal susceptance matrix, such that B = Im(Y).\n",
    "    G : np.ndarray\n",
    "        The (N, N) nodal conductance matrix, such that G = Re(Y).\n",
    "    k : int\n",
    "        The index of the node (0-indexed).\n",
    "        \n",
    "    Returns\n",
    "    -------\n",
    "    x0 : float\n",
    "        The real part of the corrective voltage at bus k.\n",
    "    x1 : float\n",
    "        The imaginary part of the corrective voltage at bus k.\n",
    "    \"\"\"\n",
    "    \n",
    "    # Compute deviation of P, |E|^2 from specified values.\n",
    "    p, _ = compute_PQ(i_real, i_imag, e_real, e_imag)\n",
    "    dp = p_specified - p\n",
    "    e_magn_square = e_real ** 2 + e_imag ** 2\n",
    "    de_square = e_magn_specified ** 2 - e_magn_square\n",
    "    \n",
    "    # Solve the system of linear equations.\n",
    "    A_00 = e_real * G[k, k] + e_imag * B[k, k] + i_real\n",
    "    A_01 = - e_real * B[k, k] + e_imag * G[k, k] + i_imag\n",
    "    A_10 = 2 * e_real\n",
    "    A_11 = 2 * e_imag\n",
    "    A = np.array([[A_00, A_01], [A_10, A_11]])\n",
    "    b = np.array([[dp], [de_square]])\n",
    "    \n",
    "    # Correction x is [e_real, e_imag].\n",
    "    x = np.dot(np.linalg.inv(A), b)\n",
    "    \n",
    "    return x[0], x[1]"
   ]
  },
  {
   "cell_type": "markdown",
   "metadata": {},
   "source": [
    "## 4. Network Example <a class='anchor' id='section4'></a>"
   ]
  },
  {
   "cell_type": "code",
   "execution_count": 34,
   "metadata": {},
   "outputs": [],
   "source": [
    "# Number of nodes.\n",
    "n = 6"
   ]
  },
  {
   "cell_type": "code",
   "execution_count": 35,
   "metadata": {},
   "outputs": [
    {
     "name": "stdout",
     "output_type": "stream",
     "text": [
      "Y matrix is symmetric:  True\n"
     ]
    }
   ],
   "source": [
    "# Conductance matrix.\n",
    "G = np.diag([0.992203, 1.021401, 0.444860, \n",
    "             1.112371, 0.576541, 0.988036])\n",
    "G[1, 2] = G[2, 1] = - G[2, 2]\n",
    "G[0, 3] = G[3, 0] = - 0.558269\n",
    "G[1, 4] = G[4, 1] = - 0.576541\n",
    "G[0, 5] = G[5, 0] = - 0.433934\n",
    "G[3, 5] = G[5, 3] = - 0.554102\n",
    "\n",
    "# Susceptance matrix.\n",
    "B = np.diag([-4.375561, -1.954525, -8.164860, \n",
    "             -13.975358, -4.64170, -7.619402])\n",
    "B[1, 2] = B[2, 1] = 0.646063\n",
    "B[0, 3] = B[3, 0] = 2.581096\n",
    "B[2, 3] = B[3, 2] = 8.270677\n",
    "B[1, 4] = B[4, 1] = 1.308462\n",
    "B[0, 5] = B[5, 0] = 1.827463\n",
    "B[3, 5] = B[5, 3] = 2.324944\n",
    "B[4, 5] = B[5, 4] = 3.416666\n",
    "\n",
    "# Admittance matrix Y = G + jB.\n",
    "Y = G + 1j * B\n",
    "print('Y matrix is symmetric: ', np.array_equal(Y, Y.T))"
   ]
  },
  {
   "cell_type": "code",
   "execution_count": 36,
   "metadata": {},
   "outputs": [],
   "source": [
    "# Specified terminal conditions (per unit).\n",
    "Es_magn = np.array([1.05, 1.10, None, None, None, None])\n",
    "Es_ang = np.array([0, None, None, None, None, None])\n",
    "Ps = np.array([None, 0.5, -0.55, 0, -0.30, -0.50])\n",
    "Qs = np.array([None, None, -0.13, 0, -0.18, -0.05])"
   ]
  },
  {
   "cell_type": "markdown",
   "metadata": {},
   "source": [
    "## 5. Iterative algorithm <a class='anchor' id='section5'></a>"
   ]
  },
  {
   "cell_type": "code",
   "execution_count": 70,
   "metadata": {},
   "outputs": [],
   "source": [
    "# Number of iterations to perform.\n",
    "n_iters = 60"
   ]
  },
  {
   "cell_type": "code",
   "execution_count": 71,
   "metadata": {},
   "outputs": [],
   "source": [
    "# Step 1: start with a flat guess for E (except for known value at slack bus.)\n",
    "slack_E = Es_magn[0] * np.exp(Es_ang[0])\n",
    "E_real = np.array([slack_E.real] + [1.] * (n-1))\n",
    "E_imag = np.array([slack_E.imag] + [0.] * (n-1))"
   ]
  },
  {
   "cell_type": "code",
   "execution_count": 72,
   "metadata": {},
   "outputs": [],
   "source": [
    "# Iterate for `iters` iterations.\n",
    "for i in range(n_iters):\n",
    "    \n",
    "    # Loop over all non-slack buses.\n",
    "    for k in range(1, n):\n",
    "        \n",
    "        # Step 2: compute the current injection at bus k.\n",
    "        i_real, i_imag = compute_I(G, B, E_real, E_imag, k)\n",
    "\n",
    "        # Step 3a: compute the E correction to be made.        \n",
    "        \n",
    "        # Case a: k is a load bus.\n",
    "        if Ps[k] is not None and Qs[k] is not None: \n",
    "            de_real, de_imag = compute_E_correction_load(Ps[k], Qs[k], i_real, i_imag, \n",
    "                                                         E_real[k], E_imag[k], B, G, k)\n",
    "        \n",
    "        # Case b: k is a generator bus.\n",
    "        elif Ps[k] is not None and Es_magn[k] is not None:  # Case b: k is a generator bus.\n",
    "            de_real, de_imag = compute_E_correction_generator(Ps[k], Es_magn[k], i_real, i_imag, \n",
    "                                                              E_real[k], E_imag[k], B, G, k)\n",
    "            \n",
    "        else:\n",
    "            raise NotImplementedError()\n",
    "            \n",
    "        # Step 3b: update the corrected voltage at bus k.\n",
    "        E_real[k] += de_real\n",
    "        E_imag[k] += de_imag"
   ]
  },
  {
   "cell_type": "markdown",
   "metadata": {},
   "source": [
    "## 6. Final solution <a class='anchor' id='section6'></a>"
   ]
  },
  {
   "cell_type": "code",
   "execution_count": 73,
   "metadata": {},
   "outputs": [
    {
     "name": "stdout",
     "output_type": "stream",
     "text": [
      "Final solution:\n",
      "\n",
      "E:  [1.05    1.1     1.00032 0.92939 0.91923 0.91898]\n",
      "Degrees:  [  0.       -3.3651  -12.78945  -9.83854 -12.34126 -12.24384]\n",
      "P:  [ 0.95229  0.5     -0.55     0.      -0.3     -0.5    ]\n",
      "Q:  [ 0.43715  0.18571 -0.13     0.      -0.18    -0.05   ]\n",
      "I_real:  [ 0.90694  0.44385 -0.50741  0.      -0.27697 -0.52016]\n",
      "I_imag [-0.41633 -0.19522  0.24844 -0.       0.26104  0.16855]\n",
      "\n",
      "Final loss = 0.10229\n"
     ]
    }
   ],
   "source": [
    "P, Q, I_real, I_imag = [], [], [], []\n",
    "\n",
    "for k in range(n):\n",
    "\n",
    "    # Compute the current injection at each bus.\n",
    "    i_real, i_imag = compute_I(G, B, E_real, E_imag, k)\n",
    "    I_real.append(i_real)\n",
    "    I_imag.append(i_imag)\n",
    "    \n",
    "    # Compute the active and reactive power injections at each bus.\n",
    "    p, q = compute_PQ(i_real, i_imag, E_real[k], E_imag[k])\n",
    "    P.append(p)\n",
    "    Q.append(q)\n",
    "        \n",
    "E = E_real + 1j * E_imag\n",
    "E_magn = np.abs(E)\n",
    "E_ang = np.angle(E)\n",
    "        \n",
    "# Print the final solution.\n",
    "np.set_printoptions(precision=5, suppress=True)\n",
    "print('Final solution:\\n')\n",
    "print('E: ', E_magn)\n",
    "print('Degrees: ', E_ang * 180 / np.pi)\n",
    "print('P: ', np.array(P))\n",
    "print('Q: ', np.array(Q))\n",
    "print('I_real: ', np.array(I_real))\n",
    "print('I_imag', np.array(I_imag))\n",
    "\n",
    "print('\\nFinal loss = %.5f' % np.sum(P))"
   ]
  },
  {
   "cell_type": "code",
   "execution_count": null,
   "metadata": {},
   "outputs": [],
   "source": []
  }
 ],
 "metadata": {
  "kernelspec": {
   "display_name": "Python 3",
   "language": "python",
   "name": "python3"
  },
  "language_info": {
   "codemirror_mode": {
    "name": "ipython",
    "version": 3
   },
   "file_extension": ".py",
   "mimetype": "text/x-python",
   "name": "python",
   "nbconvert_exporter": "python",
   "pygments_lexer": "ipython3",
   "version": "3.7.7"
  }
 },
 "nbformat": 4,
 "nbformat_minor": 4
}
